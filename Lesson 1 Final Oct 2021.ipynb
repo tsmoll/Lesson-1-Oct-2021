{
 "cells": [
  {
   "cell_type": "code",
   "execution_count": 1,
   "id": "77b1e426",
   "metadata": {},
   "outputs": [],
   "source": [
    "import seaborn as sns\n",
    "from sklearn.utils import shuffle\n",
    "Diamonds = shuffle(sns.load_dataset('diamonds'))\n",
    "import pandas as pd\n",
    "from sklearn.linear_model import LinearRegression\n",
    "from sklearn.model_selection import train_test_split\n",
    "import matplotlib.pyplot as plt\n",
    "%matplotlib inline\n",
    "from sklearn import metrics\n",
    "import numpy as np"
   ]
  },
  {
   "cell_type": "code",
   "execution_count": 3,
   "id": "7759413f",
   "metadata": {},
   "outputs": [
    {
     "data": {
      "text/html": [
       "<div>\n",
       "<style scoped>\n",
       "    .dataframe tbody tr th:only-of-type {\n",
       "        vertical-align: middle;\n",
       "    }\n",
       "\n",
       "    .dataframe tbody tr th {\n",
       "        vertical-align: top;\n",
       "    }\n",
       "\n",
       "    .dataframe thead th {\n",
       "        text-align: right;\n",
       "    }\n",
       "</style>\n",
       "<table border=\"1\" class=\"dataframe\">\n",
       "  <thead>\n",
       "    <tr style=\"text-align: right;\">\n",
       "      <th></th>\n",
       "      <th>carat</th>\n",
       "      <th>cut</th>\n",
       "      <th>color</th>\n",
       "      <th>clarity</th>\n",
       "      <th>depth</th>\n",
       "      <th>table</th>\n",
       "      <th>price</th>\n",
       "      <th>x</th>\n",
       "      <th>y</th>\n",
       "      <th>z</th>\n",
       "    </tr>\n",
       "  </thead>\n",
       "  <tbody>\n",
       "    <tr>\n",
       "      <th>41309</th>\n",
       "      <td>0.50</td>\n",
       "      <td>Very Good</td>\n",
       "      <td>F</td>\n",
       "      <td>SI1</td>\n",
       "      <td>60.2</td>\n",
       "      <td>62.0</td>\n",
       "      <td>1213</td>\n",
       "      <td>5.10</td>\n",
       "      <td>5.13</td>\n",
       "      <td>3.08</td>\n",
       "    </tr>\n",
       "    <tr>\n",
       "      <th>11325</th>\n",
       "      <td>1.02</td>\n",
       "      <td>Ideal</td>\n",
       "      <td>G</td>\n",
       "      <td>SI1</td>\n",
       "      <td>62.2</td>\n",
       "      <td>57.0</td>\n",
       "      <td>4988</td>\n",
       "      <td>6.43</td>\n",
       "      <td>6.49</td>\n",
       "      <td>4.02</td>\n",
       "    </tr>\n",
       "    <tr>\n",
       "      <th>374</th>\n",
       "      <td>0.81</td>\n",
       "      <td>Premium</td>\n",
       "      <td>D</td>\n",
       "      <td>SI2</td>\n",
       "      <td>59.2</td>\n",
       "      <td>57.0</td>\n",
       "      <td>2809</td>\n",
       "      <td>6.15</td>\n",
       "      <td>6.05</td>\n",
       "      <td>3.61</td>\n",
       "    </tr>\n",
       "    <tr>\n",
       "      <th>3559</th>\n",
       "      <td>0.72</td>\n",
       "      <td>Ideal</td>\n",
       "      <td>H</td>\n",
       "      <td>VVS2</td>\n",
       "      <td>61.8</td>\n",
       "      <td>55.0</td>\n",
       "      <td>3417</td>\n",
       "      <td>5.75</td>\n",
       "      <td>5.77</td>\n",
       "      <td>3.56</td>\n",
       "    </tr>\n",
       "    <tr>\n",
       "      <th>24541</th>\n",
       "      <td>2.01</td>\n",
       "      <td>Premium</td>\n",
       "      <td>I</td>\n",
       "      <td>SI1</td>\n",
       "      <td>60.5</td>\n",
       "      <td>58.0</td>\n",
       "      <td>12829</td>\n",
       "      <td>8.20</td>\n",
       "      <td>8.06</td>\n",
       "      <td>4.92</td>\n",
       "    </tr>\n",
       "  </tbody>\n",
       "</table>\n",
       "</div>"
      ],
      "text/plain": [
       "       carat        cut color clarity  depth  table  price     x     y     z\n",
       "41309   0.50  Very Good     F     SI1   60.2   62.0   1213  5.10  5.13  3.08\n",
       "11325   1.02      Ideal     G     SI1   62.2   57.0   4988  6.43  6.49  4.02\n",
       "374     0.81    Premium     D     SI2   59.2   57.0   2809  6.15  6.05  3.61\n",
       "3559    0.72      Ideal     H    VVS2   61.8   55.0   3417  5.75  5.77  3.56\n",
       "24541   2.01    Premium     I     SI1   60.5   58.0  12829  8.20  8.06  4.92"
      ]
     },
     "execution_count": 3,
     "metadata": {},
     "output_type": "execute_result"
    }
   ],
   "source": [
    "Diamonds.head()\n"
   ]
  },
  {
   "cell_type": "code",
   "execution_count": 4,
   "id": "0952046a",
   "metadata": {},
   "outputs": [],
   "source": [
    "Diamonds = Diamonds[[\"cut\",\"carat\",\"color\",\"clarity\",\"price\"]]"
   ]
  },
  {
   "cell_type": "code",
   "execution_count": 5,
   "id": "09aeb258",
   "metadata": {},
   "outputs": [
    {
     "data": {
      "text/plain": [
       "['Very Good', 'Ideal', 'Premium', 'Fair', 'Good']\n",
       "Categories (5, object): ['Very Good', 'Ideal', 'Premium', 'Fair', 'Good']"
      ]
     },
     "execution_count": 5,
     "metadata": {},
     "output_type": "execute_result"
    }
   ],
   "source": [
    "Diamonds.cut.unique()"
   ]
  },
  {
   "cell_type": "code",
   "execution_count": 7,
   "id": "b2e3c091",
   "metadata": {},
   "outputs": [],
   "source": [
    "Diamonds[\"cut\"] = Diamonds['cut'].replace(['Very Good', 'Ideal', 'Premium', 'Fair', 'Good'],[2, 4, 3, 1, 0])"
   ]
  },
  {
   "cell_type": "code",
   "execution_count": 8,
   "id": "e9763489",
   "metadata": {},
   "outputs": [],
   "source": [
    "Diamonds = pd.get_dummies(Diamonds)"
   ]
  },
  {
   "cell_type": "code",
   "execution_count": 9,
   "id": "f0f39e45",
   "metadata": {},
   "outputs": [
    {
     "data": {
      "text/html": [
       "<div>\n",
       "<style scoped>\n",
       "    .dataframe tbody tr th:only-of-type {\n",
       "        vertical-align: middle;\n",
       "    }\n",
       "\n",
       "    .dataframe tbody tr th {\n",
       "        vertical-align: top;\n",
       "    }\n",
       "\n",
       "    .dataframe thead th {\n",
       "        text-align: right;\n",
       "    }\n",
       "</style>\n",
       "<table border=\"1\" class=\"dataframe\">\n",
       "  <thead>\n",
       "    <tr style=\"text-align: right;\">\n",
       "      <th></th>\n",
       "      <th>cut</th>\n",
       "      <th>carat</th>\n",
       "      <th>price</th>\n",
       "      <th>color_D</th>\n",
       "      <th>color_E</th>\n",
       "      <th>color_F</th>\n",
       "      <th>color_G</th>\n",
       "      <th>color_H</th>\n",
       "      <th>color_I</th>\n",
       "      <th>color_J</th>\n",
       "      <th>clarity_IF</th>\n",
       "      <th>clarity_VVS1</th>\n",
       "      <th>clarity_VVS2</th>\n",
       "      <th>clarity_VS1</th>\n",
       "      <th>clarity_VS2</th>\n",
       "      <th>clarity_SI1</th>\n",
       "      <th>clarity_SI2</th>\n",
       "      <th>clarity_I1</th>\n",
       "    </tr>\n",
       "  </thead>\n",
       "  <tbody>\n",
       "    <tr>\n",
       "      <th>41309</th>\n",
       "      <td>2</td>\n",
       "      <td>0.50</td>\n",
       "      <td>1213</td>\n",
       "      <td>0</td>\n",
       "      <td>0</td>\n",
       "      <td>1</td>\n",
       "      <td>0</td>\n",
       "      <td>0</td>\n",
       "      <td>0</td>\n",
       "      <td>0</td>\n",
       "      <td>0</td>\n",
       "      <td>0</td>\n",
       "      <td>0</td>\n",
       "      <td>0</td>\n",
       "      <td>0</td>\n",
       "      <td>1</td>\n",
       "      <td>0</td>\n",
       "      <td>0</td>\n",
       "    </tr>\n",
       "    <tr>\n",
       "      <th>11325</th>\n",
       "      <td>4</td>\n",
       "      <td>1.02</td>\n",
       "      <td>4988</td>\n",
       "      <td>0</td>\n",
       "      <td>0</td>\n",
       "      <td>0</td>\n",
       "      <td>1</td>\n",
       "      <td>0</td>\n",
       "      <td>0</td>\n",
       "      <td>0</td>\n",
       "      <td>0</td>\n",
       "      <td>0</td>\n",
       "      <td>0</td>\n",
       "      <td>0</td>\n",
       "      <td>0</td>\n",
       "      <td>1</td>\n",
       "      <td>0</td>\n",
       "      <td>0</td>\n",
       "    </tr>\n",
       "    <tr>\n",
       "      <th>374</th>\n",
       "      <td>3</td>\n",
       "      <td>0.81</td>\n",
       "      <td>2809</td>\n",
       "      <td>1</td>\n",
       "      <td>0</td>\n",
       "      <td>0</td>\n",
       "      <td>0</td>\n",
       "      <td>0</td>\n",
       "      <td>0</td>\n",
       "      <td>0</td>\n",
       "      <td>0</td>\n",
       "      <td>0</td>\n",
       "      <td>0</td>\n",
       "      <td>0</td>\n",
       "      <td>0</td>\n",
       "      <td>0</td>\n",
       "      <td>1</td>\n",
       "      <td>0</td>\n",
       "    </tr>\n",
       "    <tr>\n",
       "      <th>3559</th>\n",
       "      <td>4</td>\n",
       "      <td>0.72</td>\n",
       "      <td>3417</td>\n",
       "      <td>0</td>\n",
       "      <td>0</td>\n",
       "      <td>0</td>\n",
       "      <td>0</td>\n",
       "      <td>1</td>\n",
       "      <td>0</td>\n",
       "      <td>0</td>\n",
       "      <td>0</td>\n",
       "      <td>0</td>\n",
       "      <td>1</td>\n",
       "      <td>0</td>\n",
       "      <td>0</td>\n",
       "      <td>0</td>\n",
       "      <td>0</td>\n",
       "      <td>0</td>\n",
       "    </tr>\n",
       "    <tr>\n",
       "      <th>24541</th>\n",
       "      <td>3</td>\n",
       "      <td>2.01</td>\n",
       "      <td>12829</td>\n",
       "      <td>0</td>\n",
       "      <td>0</td>\n",
       "      <td>0</td>\n",
       "      <td>0</td>\n",
       "      <td>0</td>\n",
       "      <td>1</td>\n",
       "      <td>0</td>\n",
       "      <td>0</td>\n",
       "      <td>0</td>\n",
       "      <td>0</td>\n",
       "      <td>0</td>\n",
       "      <td>0</td>\n",
       "      <td>1</td>\n",
       "      <td>0</td>\n",
       "      <td>0</td>\n",
       "    </tr>\n",
       "  </tbody>\n",
       "</table>\n",
       "</div>"
      ],
      "text/plain": [
       "       cut  carat  price  color_D  color_E  color_F  color_G  color_H  \\\n",
       "41309    2   0.50   1213        0        0        1        0        0   \n",
       "11325    4   1.02   4988        0        0        0        1        0   \n",
       "374      3   0.81   2809        1        0        0        0        0   \n",
       "3559     4   0.72   3417        0        0        0        0        1   \n",
       "24541    3   2.01  12829        0        0        0        0        0   \n",
       "\n",
       "       color_I  color_J  clarity_IF  clarity_VVS1  clarity_VVS2  clarity_VS1  \\\n",
       "41309        0        0           0             0             0            0   \n",
       "11325        0        0           0             0             0            0   \n",
       "374          0        0           0             0             0            0   \n",
       "3559         0        0           0             0             1            0   \n",
       "24541        1        0           0             0             0            0   \n",
       "\n",
       "       clarity_VS2  clarity_SI1  clarity_SI2  clarity_I1  \n",
       "41309            0            1            0           0  \n",
       "11325            0            1            0           0  \n",
       "374              0            0            1           0  \n",
       "3559             0            0            0           0  \n",
       "24541            0            1            0           0  "
      ]
     },
     "execution_count": 9,
     "metadata": {},
     "output_type": "execute_result"
    }
   ],
   "source": [
    "Diamonds.head()"
   ]
  },
  {
   "cell_type": "code",
   "execution_count": 14,
   "id": "c7429ded",
   "metadata": {},
   "outputs": [],
   "source": [
    "x = Diamonds.drop('price', axis=1)\n",
    "y = Diamonds['price']"
   ]
  },
  {
   "cell_type": "code",
   "execution_count": 20,
   "id": "1df299cb",
   "metadata": {},
   "outputs": [],
   "source": [
    "x_train, x_test, y_train, y_test = train_test_split(x,y, test_size = .4, random_state=101)"
   ]
  },
  {
   "cell_type": "code",
   "execution_count": 21,
   "id": "691f980a",
   "metadata": {},
   "outputs": [
    {
     "name": "stdout",
     "output_type": "stream",
     "text": [
      "(32364, 17) (32364,)\n",
      "(21576, 17) (21576,)\n"
     ]
    }
   ],
   "source": [
    "print(x_train.shape, y_train.shape)\n",
    "print(x_test.shape, y_test.shape)"
   ]
  },
  {
   "cell_type": "code",
   "execution_count": 22,
   "id": "16489acd",
   "metadata": {},
   "outputs": [
    {
     "data": {
      "text/plain": [
       "LinearRegression()"
      ]
     },
     "execution_count": 22,
     "metadata": {},
     "output_type": "execute_result"
    }
   ],
   "source": [
    "lm = LinearRegression()\n",
    "lm.fit(x_train, y_train)"
   ]
  },
  {
   "cell_type": "code",
   "execution_count": 23,
   "id": "af5a053a",
   "metadata": {},
   "outputs": [
    {
     "data": {
      "text/plain": [
       "LinearRegression()"
      ]
     },
     "execution_count": 23,
     "metadata": {},
     "output_type": "execute_result"
    }
   ],
   "source": [
    "LinearRegression(copy_X=True, fit_intercept=True, n_jobs=None,\n",
    "         normalize=False)"
   ]
  },
  {
   "cell_type": "code",
   "execution_count": null,
   "id": "b2461551",
   "metadata": {},
   "outputs": [],
   "source": []
  }
 ],
 "metadata": {
  "kernelspec": {
   "display_name": "Python 3",
   "language": "python",
   "name": "python3"
  },
  "language_info": {
   "codemirror_mode": {
    "name": "ipython",
    "version": 3
   },
   "file_extension": ".py",
   "mimetype": "text/x-python",
   "name": "python",
   "nbconvert_exporter": "python",
   "pygments_lexer": "ipython3",
   "version": "3.8.8"
  }
 },
 "nbformat": 4,
 "nbformat_minor": 5
}
